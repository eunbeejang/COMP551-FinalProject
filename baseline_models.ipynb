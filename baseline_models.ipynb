{
 "cells": [
  {
   "cell_type": "code",
   "execution_count": 1,
   "metadata": {},
   "outputs": [],
   "source": [
    "from sklearn.svm import LinearSVC\n",
    "from sklearn.metrics import f1_score"
   ]
  },
  {
   "cell_type": "markdown",
   "metadata": {},
   "source": [
    "# Linear SVM"
   ]
  },
  {
   "cell_type": "code",
   "execution_count": null,
   "metadata": {},
   "outputs": [],
   "source": [
    "#Hyper parameter grid to be tested for Linear SVM \n",
    "param_grid_svc= {'C': [1*i for i in range(1, 10)], 'tol': [10**(-i*2) for i in range(1, 10)]}"
   ]
  },
  {
   "cell_type": "code",
   "execution_count": null,
   "metadata": {},
   "outputs": [],
   "source": [
    "\"\"\"\"\n",
    "using grid search to fit the data on best hyper parameters with good f1_score\n",
    "\"\"\"\"\n",
    "linSVC = LinearSVC(dual=True)\n",
    "linSVC = model_selection.GridSearchCV(linSVC, param_grid_svc, scoring='f1_micro', cv=3, verbose=2, n_jobs=2)\n",
    "linSVC = linSVC.fit(train_x, train_y)"
   ]
  },
  {
   "cell_type": "code",
   "execution_count": null,
   "metadata": {},
   "outputs": [],
   "source": [
    "print(linSVC.best_params_, linSVC.best_score_)"
   ]
  },
  {
   "cell_type": "code",
   "execution_count": null,
   "metadata": {},
   "outputs": [],
   "source": [
    "\"\"\"\n",
    "fitting Linear SVC on the best hyper parameters found from grid search\n",
    "Using this fit, finding the prediction for the test set and then finding the f1_score of this prediction\n",
    "\"\"\"\"\n",
    "linSVC = svm.LinearSVC(tol= linSVC.best_params_['tol'], C=linSVC.best_params_['C'])\n",
    "linSVC = linSVC.fit(train_x, train_y)\n",
    "\n",
    "linearsvm_test_pred = linSVC.predict(test_x)\n",
    "\n",
    "linearsvm_test_f1 = f1_score(test_y, linearsvm_test_pred, average='micro')"
   ]
  },
  {
   "cell_type": "code",
   "execution_count": null,
   "metadata": {},
   "outputs": [],
   "source": [
    "print(linearsvm_test_f1*100)"
   ]
  }
 ],
 "metadata": {
  "kernelspec": {
   "display_name": "myenv",
   "language": "python",
   "name": "myenv"
  },
  "language_info": {
   "codemirror_mode": {
    "name": "ipython",
    "version": 3
   },
   "file_extension": ".py",
   "mimetype": "text/x-python",
   "name": "python",
   "nbconvert_exporter": "python",
   "pygments_lexer": "ipython3",
   "version": "3.5.2"
  }
 },
 "nbformat": 4,
 "nbformat_minor": 2
}
