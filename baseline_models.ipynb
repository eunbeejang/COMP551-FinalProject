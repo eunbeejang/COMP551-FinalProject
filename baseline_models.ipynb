{
 "cells": [
  {
   "cell_type": "code",
   "execution_count": null,
   "metadata": {},
   "outputs": [],
   "source": [
    "from sklearn.svm import LinearSVC\n",
    "from sklearn.naive_bayes import BernoulliNB\n",
    "from sklearn.metrics import f1_score"
   ]
  },
  {
   "cell_type": "markdown",
   "metadata": {},
   "source": [
    "# Linear SVM"
   ]
  },
  {
   "cell_type": "code",
   "execution_count": null,
   "metadata": {},
   "outputs": [],
   "source": [
    "imdb_bbow_linearsvm_clf = LinearSVC(max_iter=15000)\n",
    "list_C = [2*i for i in range(1, 5)]\n",
    "list_tol = [10**(-i*2) for i in range(1, 4)]\n",
    "\n",
    "tuned_parameters = [{'C': list_C, 'tol': list_tol}]\n",
    "imdb_bbow_linearsvm_clf = GridSearchCV(imdb_bbow_linearsvm_clf, tuned_parameters, scoring='f1_micro', cv=3, verbose=2)"
   ]
  },
  {
   "cell_type": "code",
   "execution_count": null,
   "metadata": {},
   "outputs": [],
   "source": [
    "imdb_bbow_linearsvm_clf = imdb_bbow_linearsvm_clf.fit(imdb_vectors_train_binary, imdb_train_output)"
   ]
  },
  {
   "cell_type": "code",
   "execution_count": null,
   "metadata": {},
   "outputs": [],
   "source": [
    "imdb_binary_linearsvm_best_params = imdb_bbow_linearsvm_clf.best_params_"
   ]
  },
  {
   "cell_type": "code",
   "execution_count": null,
   "metadata": {},
   "outputs": [],
   "source": [
    "imdb_binary_linearsvm_best_params"
   ]
  },
  {
   "cell_type": "code",
   "execution_count": null,
   "metadata": {},
   "outputs": [],
   "source": [
    "imdb_bbow_linearsvm_clf = LinearSVC(tol=imdb_binary_linearsvm_best_params['tol'],\n",
    "                                    C=imdb_binary_linearsvm_best_params['C'])"
   ]
  },
  {
   "cell_type": "code",
   "execution_count": null,
   "metadata": {},
   "outputs": [],
   "source": [
    "imdb_bbow_linearsvm_clf = imdb_bbow_linearsvm_clf.fit(imdb_vectors_train_binary, imdb_train_output)\n",
    "\n",
    "imdb_bbow_linearsvm_train_pred = imdb_bbow_linearsvm_clf.predict(imdb_vectors_train_binary)\n",
    "imdb_bbow_linearsvm_valid_pred = imdb_bbow_linearsvm_clf.predict(imdb_vectors_valid_binary)\n",
    "imdb_bbow_linearsvm_test_pred = imdb_bbow_linearsvm_clf.predict(imdb_vectors_test_binary)\n",
    "\n",
    "imdb_bbow_linearsvm_train_f1 = f1_score(imdb_train_output, imdb_bbow_linearsvm_train_pred, average='micro')\n",
    "imdb_bbow_linearsvm_valid_f1 = f1_score(imdb_valid_output, imdb_bbow_linearsvm_valid_pred, average='micro')\n",
    "imdb_bbow_linearsvm_test_f1 = f1_score(imdb_test_output, imdb_bbow_linearsvm_test_pred, average='micro')"
   ]
  },
  {
   "cell_type": "code",
   "execution_count": null,
   "metadata": {},
   "outputs": [],
   "source": [
    "print(\"IMDB Binary BoW Linear SVM Train F1 Score:\", imdb_bbow_linearsvm_train_f1)\n",
    "print(\"IMDB Binary BoW Linear SVM Valid F1 Score:\", imdb_bbow_linearsvm_valid_f1)\n",
    "print(\"IMDB Binary BoW Linear SVM Test F1 Score:\", imdb_bbow_linearsvm_test_f1)\n",
    "print(\"IMDB Best Binary BoW Linear SVM Parameters: \", imdb_binary_linearsvm_best_params)"
   ]
  },
  {
   "cell_type": "markdown",
   "metadata": {},
   "source": [
    "#  Bernoulli Naive Bayes"
   ]
  },
  {
   "cell_type": "code",
   "execution_count": null,
   "metadata": {},
   "outputs": [],
   "source": [
    "alpha_vals = [i/50 for i in range(1, 51)]\n",
    "imdb_bbow_bernoullinb_valid_f1_scores = []\n",
    "for val_alpha in tqdm(alpha_vals):\n",
    "    imdb_bbow_bernoullinb_clf = BernoulliNB(alpha=val_alpha)\n",
    "    imdb_bbow_bernoullinb_clf = imdb_bbow_bernoullinb_clf.fit(imdb_vectors_train_binary, imdb_train_output)\n",
    "    imdb_bbow_bernoullinb_valid_pred = imdb_bbow_bernoullinb_clf.predict(imdb_vectors_valid_binary)\n",
    "    f1 = f1_score(imdb_valid_output, imdb_bbow_bernoullinb_valid_pred, average='micro')\n",
    "    imdb_bbow_bernoullinb_valid_f1_scores.append(f1)"
   ]
  },
  {
   "cell_type": "code",
   "execution_count": null,
   "metadata": {},
   "outputs": [],
   "source": [
    "plt.plot(alpha_vals, imdb_bbow_bernoullinb_valid_f1_scores, 'g', label='F1 Scores')\n",
    "plt.xlabel('Alpha values')\n",
    "plt.ylabel('F1 Scores')\n",
    "plt.legend()\n",
    "plt.show()"
   ]
  },
  {
   "cell_type": "code",
   "execution_count": null,
   "metadata": {},
   "outputs": [],
   "source": [
    "imdb_max_index = imdb_bbow_bernoullinb_valid_f1_scores.index(max(imdb_bbow_bernoullinb_valid_f1_scores))\n",
    "imdb_best_bbow_bernoullinb_alpha = alpha_vals[max_index]"
   ]
  },
  {
   "cell_type": "code",
   "execution_count": null,
   "metadata": {},
   "outputs": [],
   "source": [
    "imdb_best_bbow_bernoullinb_alpha"
   ]
  },
  {
   "cell_type": "code",
   "execution_count": null,
   "metadata": {},
   "outputs": [],
   "source": [
    "imdb_bbow_bernoullinb_train_f1 = get_bbow_bernoullinb_f1(imdb_vectors_train_binary, imdb_train_output, imdb_best_bbow_bernoullinb_alpha, imdb_vectors_train_binary, imdb_train_output)\n",
    "imdb_bbow_bernoullinb_valid_f1 = get_bbow_bernoullinb_f1(imdb_vectors_train_binary, imdb_train_output, imdb_best_bbow_bernoullinb_alpha, imdb_vectors_valid_binary, imdb_valid_output)\n",
    "imdb_bbow_bernoullinb_test_f1 = get_bbow_bernoullinb_f1(imdb_vectors_train_binary, imdb_train_output, imdb_best_bbow_bernoullinb_alpha, imdb_vectors_test_binary, imdb_test_output)"
   ]
  },
  {
   "cell_type": "code",
   "execution_count": null,
   "metadata": {},
   "outputs": [],
   "source": [
    "print(\"IMDB Binary BoW BernoulliNB Train F1 Score:\", imdb_bbow_bernoullinb_train_f1)\n",
    "print(\"IMDB Binary BoW BernoulliNB Valid F1 Score:\", imdb_bbow_bernoullinb_valid_f1)\n",
    "print(\"IMDB Binary BoW BernoulliNB Test F1 Score:\", imdb_bbow_bernoullinb_test_f1)\n",
    "print(\"IMDB Best Binary BoW BernoulliNB Alpha Value: \", imdb_best_bbow_bernoullinb_alpha)"
   ]
  }
 ],
 "metadata": {
  "kernelspec": {
   "display_name": "myenv",
   "language": "python",
   "name": "myenv"
  },
  "language_info": {
   "codemirror_mode": {
    "name": "ipython",
    "version": 3
   },
   "file_extension": ".py",
   "mimetype": "text/x-python",
   "name": "python",
   "nbconvert_exporter": "python",
   "pygments_lexer": "ipython3",
   "version": "3.5.2"
  }
 },
 "nbformat": 4,
 "nbformat_minor": 2
}
